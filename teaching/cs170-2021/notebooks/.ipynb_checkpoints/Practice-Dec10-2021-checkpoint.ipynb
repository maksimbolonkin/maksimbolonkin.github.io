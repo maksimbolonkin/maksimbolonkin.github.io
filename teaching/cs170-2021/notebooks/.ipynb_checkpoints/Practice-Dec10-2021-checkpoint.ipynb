{
 "cells": [
  {
   "cell_type": "markdown",
   "metadata": {},
   "source": [
    "### Problem 1\n",
    "Implement Runge-Kutta 4th order method and solve the following initial value problem:\n",
    "$$y' = 5y-5ty^3, y(0) = 1$$\n",
    "Compare to the exact solution:\n",
    "$$y = \\left(1.1e^{-10t}+t-\\frac{1}{10}\\right)^{-1/2}$$\n",
    "Find $y(1)$."
   ]
  },
  {
   "cell_type": "code",
   "execution_count": 1,
   "metadata": {},
   "outputs": [],
   "source": [
    "import numpy as np\n",
    "import matplotlib.pyplot as plt\n",
    "#matplotlib inline"
   ]
  },
  {
   "cell_type": "code",
   "execution_count": 8,
   "metadata": {},
   "outputs": [],
   "source": [
    "def f(y,t):\n",
    "    return 5*y-5*t*y**3\n",
    "\n",
    "def y_true(t):\n",
    "    return np.power(1.1*np.exp(-10*t)+t-0.1, -0.5)"
   ]
  },
  {
   "cell_type": "markdown",
   "metadata": {},
   "source": [
    "$y_{k+1} = y_k + \\frac{h}{6}(k_1+2k_2+ 2k_3+k_4)$\n",
    "\n",
    "$k_1 = f(t_k, y_k)$\n",
    "\n",
    "$k_2 = f(t_k+\\frac{h}{2}, y_k+\\frac{hk_1}{2})$\n",
    "\n",
    "$k_1 = f(t_k+\\frac{h}{2}, y_k+\\frac{hk_2}{2})$\n",
    "\n",
    "$k_1 = f(t_k+h, y_k+hk_3)$"
   ]
  },
  {
   "cell_type": "code",
   "execution_count": 5,
   "metadata": {},
   "outputs": [],
   "source": [
    "def rk4(x, h):\n",
    "    t, y = [0], [1]\n",
    "    while t[-1] < x:\n",
    "        k1 = f(y[-1], t[-1])\n",
    "        k2 = f(y[-1]+h*k1/2, t[-1]+h/2)\n",
    "        k3 = f(y[-1]+h*k2/2, t[-1]+h/2)\n",
    "        k4 = f(y[-1]+h*k3, t[-1]+h)\n",
    "        t.append(t[-1]+h)\n",
    "        y.append(y[-1]+h*(k1+2*k2+2*k3+k4)/6)\n",
    "    return y[-1]        "
   ]
  },
  {
   "cell_type": "code",
   "execution_count": 17,
   "metadata": {},
   "outputs": [],
   "source": [
    "def err(f_true, f_appr):\n",
    "    return np.abs(f_true-f_appr)"
   ]
  },
  {
   "cell_type": "code",
   "execution_count": 20,
   "metadata": {},
   "outputs": [],
   "source": [
    "n = np.arange(10, 100, 10)\n",
    "e = []\n",
    "for i in range(len(1/n)):\n",
    "    e.append(err(y_true(1), rk4(1, h[i])))"
   ]
  },
  {
   "cell_type": "code",
   "execution_count": 21,
   "metadata": {},
   "outputs": [
    {
     "data": {
      "image/png": "[encoded data removed]",
      "text/plain": [
       "<Figure size 432x288 with 1 Axes>"
      ]
     },
     "metadata": {
      "needs_background": "light"
     },
     "output_type": "display_data"
    }
   ],
   "source": [
    "plt.plot(n, e, 'r.-')\n",
    "plt.show()"
   ]
  },
  {
   "cell_type": "markdown",
   "metadata": {},
   "source": [
    "## Problem 2\n",
    "Use implemented Runge-Kutta method to solve the Lotka-Volterra system:\n",
    "$$x' = \\alpha x - \\beta xy$$\n",
    "$$y' = \\delta xy - \\gamma y,$$\n",
    "where $\\alpha=0.4, \\beta=0.4, \\gamma=2, \\delta=0.09$. Initial conditions are $x(0)=100, y(0)=8$. Find the dynamics over 50 units of time."
   ]
  },
  {
   "cell_type": "code",
   "execution_count": 22,
   "metadata": {},
   "outputs": [],
   "source": [
    "import numpy as np\n",
    "import matplotlib.pyplot as plt\n",
    "#matplotlib inline"
   ]
  },
  {
   "cell_type": "code",
   "execution_count": 42,
   "metadata": {},
   "outputs": [],
   "source": [
    "a, b, g, d = 0.01, 0.4, 2, 0.09\n",
    "def f(x, t):\n",
    "    return np.array([a*x[0] - b*x[0]*x[1], d*x[0]*x[1]-g*x[1]])"
   ]
  },
  {
   "cell_type": "code",
   "execution_count": 43,
   "metadata": {},
   "outputs": [],
   "source": [
    "def rk4_step(x0, h):\n",
    "    t = 0\n",
    "    k1 = f(x0, t)\n",
    "    k2 = f(x0+h*k1/2, t+h/2)\n",
    "    k3 = f(x0+h*k2/2, t+h/2)\n",
    "    k4 = f(x0+h*k3, t+h)\n",
    "    return x0+h*(k1+2*k2+2*k3+k4)/6   "
   ]
  },
  {
   "cell_type": "code",
   "execution_count": 46,
   "metadata": {},
   "outputs": [],
   "source": [
    "x, y = [20], [8]\n",
    "for t in range(5000):\n",
    "    x1 = rk4_step(np.array([x[-1], y[-1]]), 0.1)\n",
    "    x.append(x1[0])\n",
    "    y.append(x1[1])"
   ]
  },
  {
   "cell_type": "code",
   "execution_count": 47,
   "metadata": {},
   "outputs": [
    {
     "data": {
      "image/png": "[encoded data removed]",
      "text/plain": [
       "<Figure size 432x288 with 1 Axes>"
      ]
     },
     "metadata": {
      "needs_background": "light"
     },
     "output_type": "display_data"
    }
   ],
   "source": [
    "plt.plot(np.arange(5001), x, 'g.-', np.arange(5001), y, 'r.-')\n",
    "plt.show()"
   ]
  },
  {
   "cell_type": "markdown",
   "metadata": {},
   "source": [
    "### Problem 3\n",
    "Implement shooting method to solve the following Boundary Value Problem:\n",
    "$$\\frac{d^2y}{dt^2} = \\frac{3}{2}y^2, ~~ y(0)=4, y(1)=1$$"
   ]
  },
  {
   "cell_type": "markdown",
   "metadata": {},
   "source": [
    "### Problem 4\n",
    "Solve the same problem using matrix solution."
   ]
  }
 ],
 "metadata": {
  "kernelspec": {
   "display_name": "Python 3",
   "language": "python",
   "name": "python3"
  },
  "language_info": {
   "codemirror_mode": {
    "name": "ipython",
    "version": 3
   },
   "file_extension": ".py",
   "mimetype": "text/x-python",
   "name": "python",
   "nbconvert_exporter": "python",
   "pygments_lexer": "ipython3",
   "version": "3.8.8"
  }
 },
 "nbformat": 4,
 "nbformat_minor": 4
}
