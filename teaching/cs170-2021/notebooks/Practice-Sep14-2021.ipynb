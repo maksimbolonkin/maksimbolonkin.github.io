{
 "cells": [
  {
   "cell_type": "markdown",
   "metadata": {},
   "source": [
    "### Problem 1\n",
    "Load Boston housing dataset and perform linear regression on it using Linear Least Squares method. Check the performance (MSE) on a selected testing subset.\n",
    "\n",
    "Don't forget than if our model is $y = a_1\\theta_1 + \\ldots a_n\\theta_n + \\theta_0$ we need to expand data matrix with additional column of ones to match $n+1$ parameters (including $\\theta_0$).\n",
    "\n",
    "Useful function `scipy.linalg.pinv`"
   ]
  },
  {
   "cell_type": "code",
   "execution_count": 1,
   "metadata": {},
   "outputs": [],
   "source": [
    "import numpy as np\n",
    "import sklearn.datasets as ds\n",
    "import scipy.linalg as la"
   ]
  },
  {
   "cell_type": "code",
   "execution_count": 2,
   "metadata": {},
   "outputs": [],
   "source": [
    "data = ds.load_boston()"
   ]
  },
  {
   "cell_type": "code",
   "execution_count": 3,
   "metadata": {},
   "outputs": [],
   "source": [
    "test_set = np.arange(100)\n",
    "train_set = np.arange(100, data.data.shape[0])"
   ]
  },
  {
   "cell_type": "code",
   "execution_count": 4,
   "metadata": {},
   "outputs": [
    {
     "name": "stdout",
     "output_type": "stream",
     "text": [
      "(406, 14)\n"
     ]
    }
   ],
   "source": [
    "A = np.hstack((data.data[train_set,:], np.ones((train_set.shape[0],1))))\n",
    "print(A.shape)"
   ]
  },
  {
   "cell_type": "code",
   "execution_count": 5,
   "metadata": {},
   "outputs": [
    {
     "name": "stdout",
     "output_type": "stream",
     "text": [
      "[-1.09124839e-01  5.88996298e-02  5.32143114e-02  2.53136435e+00\n",
      " -2.11593358e+01  3.28228540e+00 -4.04396115e-03 -1.78329769e+00\n",
      "  3.18774694e-01 -1.25180886e-02 -1.01186219e+00  9.28779352e-03\n",
      " -5.81756268e-01  4.44936476e+01]\n"
     ]
    }
   ],
   "source": [
    "B = A.T @ A\n",
    "y = A.T @ data.target[train_set]\n",
    "theta = la.pinv(B)@y\n",
    "print(theta)"
   ]
  },
  {
   "cell_type": "code",
   "execution_count": 6,
   "metadata": {},
   "outputs": [
    {
     "name": "stdout",
     "output_type": "stream",
     "text": [
      "3.5498621468654714\n"
     ]
    }
   ],
   "source": [
    "y_pred = np.hstack((data.data[test_set,:], np.ones((test_set.shape[0],1)))) @ theta\n",
    "y_real = data.target[test_set]\n",
    "diff = np.sqrt(np.mean((y_pred - y_real)**2))\n",
    "print(diff)"
   ]
  },
  {
   "cell_type": "code",
   "execution_count": 7,
   "metadata": {},
   "outputs": [
    {
     "name": "stdout",
     "output_type": "stream",
     "text": [
      "12.7 43.8 22.309\n"
     ]
    }
   ],
   "source": [
    "print(y_real.min(), y_real.max(), y_real.mean())"
   ]
  },
  {
   "cell_type": "markdown",
   "metadata": {},
   "source": [
    "### Problem 2\n",
    "Load *digits* dataset, select images corresponding to digits 0 and 1. Set apart random 10% of the data for evaluation. Use Linear Least Squares to train a naive classifier by regressing the pixel values of every digits to it's numerical value:\n",
    "$$y_i = \\sum a_i\\theta_i + \\theta_0$$\n",
    "where $y_i$ is 0 or 1. Perform classification by thresholding the regressed value. Check the accuracy on the training and testing subsets.\n",
    "\n",
    "**Make sure to fix random seed for reproducibility.**"
   ]
  },
  {
   "cell_type": "code",
   "execution_count": 8,
   "metadata": {},
   "outputs": [],
   "source": [
    "import numpy as np\n",
    "import sklearn.datasets as ds\n",
    "import scipy.linalg as la"
   ]
  },
  {
   "cell_type": "code",
   "execution_count": 9,
   "metadata": {},
   "outputs": [],
   "source": [
    "D = ds.load_digits()"
   ]
  },
  {
   "cell_type": "code",
   "execution_count": 10,
   "metadata": {},
   "outputs": [],
   "source": [
    "ind0 = np.where(D.target==7)[0]\n",
    "ind1 = np.where(D.target==1)[0]\n",
    "inds = np.union1d(ind0, ind1)"
   ]
  },
  {
   "cell_type": "code",
   "execution_count": 11,
   "metadata": {},
   "outputs": [],
   "source": [
    "eval_set = np.random.choice(inds, int(0.1*inds.size))\n",
    "train_set = np.setdiff1d(inds, eval_set)\n",
    "eval_set = np.setdiff1d(inds, train_set)"
   ]
  },
  {
   "cell_type": "code",
   "execution_count": 12,
   "metadata": {},
   "outputs": [],
   "source": [
    "A = np.hstack((D.data[train_set,:], np.ones((train_set.shape[0],1))))\n",
    "B = A.T @ A\n",
    "y = A.T @ D.target[train_set]\n",
    "theta = la.pinv(B)@y"
   ]
  },
  {
   "cell_type": "code",
   "execution_count": 13,
   "metadata": {},
   "outputs": [
    {
     "name": "stdout",
     "output_type": "stream",
     "text": [
      "[0.51020613 6.63773496 5.8307016  6.83950527 6.61966882 0.29029398\n",
      " 0.79622023 0.10698233 6.48237067 7.3669215  1.78478063 7.12936113\n",
      " 8.07562656 1.02251406 0.92598856 7.24900515 0.89678487 0.94313639\n",
      " 1.16117067 6.58177228 0.65655362 7.69397547 6.61171956 1.56542454\n",
      " 1.96960137 7.96012215 6.74457881 1.47925404 0.85859511 2.81711423\n",
      " 1.62588477 0.47017345 7.25048242]\n"
     ]
    }
   ],
   "source": [
    "y_eval = np.hstack((D.data[eval_set,:], np.ones((eval_set.shape[0],1)))) @ theta\n",
    "print(y_eval)"
   ]
  },
  {
   "cell_type": "code",
   "execution_count": 14,
   "metadata": {},
   "outputs": [
    {
     "name": "stdout",
     "output_type": "stream",
     "text": [
      "1.0\n"
     ]
    }
   ],
   "source": [
    "y_pred = np.ones(D.target[eval_set].shape)\n",
    "y_pred[y_eval>=4] = 7\n",
    "correct = np.sum(y_pred==D.target[eval_set])\n",
    "acc = correct/eval_set.size\n",
    "print(acc)"
   ]
  },
  {
   "cell_type": "markdown",
   "metadata": {},
   "source": [
    "### Problem 3\n",
    "Generate arbitrary nonlinear function on a sample of 10 points from $(0; 10]$, add some Gaussian or discrete noise to the values. Solve Least-Squares problem to fit the data points with polynomial models of various degree. Report RMSE on the obtained models. Plot points vs. model vs. true function. Useful functions: `np.vander`, `np.linspace`, `np.vectorize`"
   ]
  },
  {
   "cell_type": "markdown",
   "metadata": {},
   "source": [
    "### Problem 4\n",
    "\n",
    "Попробуйте решить Задачу 1 (Boston housing dataset), моделируя данные многочленом второй степени:\n",
    "$$y = \\theta_0 + a_1\\theta_1 + \\ldots+ a_n\\theta_n + a_1^2\\theta_{11} + a_1a_2\\theta_{12}+ \\ldots +a_n^2\\theta_{nn} = a_0 + \\sum_{i=1}^{n}a_i\\theta_i + \\sum_{i=1}^{n}\\sum_{j=1}^{n}a_ia_j\\theta_{ij}$$ "
   ]
  }
 ],
 "metadata": {
  "kernelspec": {
   "display_name": "Python 3",
   "language": "python",
   "name": "python3"
  },
  "language_info": {
   "codemirror_mode": {
    "name": "ipython",
    "version": 3
   },
   "file_extension": ".py",
   "mimetype": "text/x-python",
   "name": "python",
   "nbconvert_exporter": "python",
   "pygments_lexer": "ipython3",
   "version": "3.8.8"
  }
 },
 "nbformat": 4,
 "nbformat_minor": 2
}
