{
 "cells": [
  {
   "cell_type": "markdown",
   "metadata": {},
   "source": [
    "### Problem 1\n",
    "Implement coordinate descent with analytic line search for Matyas function:\n",
    "$$f(x,y) = 0.26(x^2 + y^2) - 0.48xy$$\n",
    "on the interval $[-10;10] \\times [-10;10]$. Plot the behavior of the optimization process on the contour map of the function. \n",
    "\n",
    "Useful function: `pyplot.contour`, `np.meshgrid`"
   ]
  },
  {
   "cell_type": "code",
   "execution_count": 1,
   "metadata": {},
   "outputs": [],
   "source": [
    "import numpy as np\n",
    "import matplotlib.pyplot as plt\n",
    "#matplotlib inline"
   ]
  },
  {
   "cell_type": "code",
   "execution_count": 2,
   "metadata": {},
   "outputs": [],
   "source": [
    "x0, x1 = -10, 10\n",
    "y0, y1 = -10, 10\n",
    "def f(x,y):\n",
    "    return 0.26*(x**2+y**2) - 0.48*x*y"
   ]
  },
  {
   "cell_type": "code",
   "execution_count": 19,
   "metadata": {},
   "outputs": [],
   "source": [
    "N = 100\n",
    "x = np.linspace(x0, x1, N)\n",
    "y = np.linspace(y0, y1, N)\n",
    "xx, yy = np.meshgrid(x, y, sparse=True)"
   ]
  },
  {
   "cell_type": "code",
   "execution_count": 21,
   "metadata": {},
   "outputs": [
    {
     "data": {
      "image/png": "[encoded data removed]",
      "text/plain": [
       "<Figure size 432x288 with 1 Axes>"
      ]
     },
     "metadata": {
      "needs_background": "light"
     },
     "output_type": "display_data"
    }
   ],
   "source": [
    "z = f(xx, yy)\n",
    "plt.contourf(x, y, z)\n",
    "plt.show()"
   ]
  },
  {
   "cell_type": "code",
   "execution_count": 28,
   "metadata": {},
   "outputs": [
    {
     "data": {
      "image/png": "[encoded data removed]",
      "text/plain": [
       "<Figure size 432x288 with 1 Axes>"
      ]
     },
     "metadata": {
      "needs_background": "light"
     },
     "output_type": "display_data"
    }
   ],
   "source": [
    "x_old, y_old = np.random.random()*20-10, np.random.random()*20-10\n",
    "path = [[x_old, y_old]]\n",
    "for i in range(1000):\n",
    "    # optimize for x\n",
    "    x_new = 12*y_old/13\n",
    "    path.append([x_new, y_old])\n",
    "    x_old = x_new\n",
    "    \n",
    "    # optimize for y\n",
    "    y_new = 12*x_old/13\n",
    "    path.append([x_old, y_new])\n",
    "    y_old = y_new\n",
    "    \n",
    "    diff = np.abs(path[-1][0] - path[-3][0]) + np.abs(path[-1][1] - path[-3][1])\n",
    "    if diff < 1e-5:\n",
    "        break\n",
    "\n",
    "path = np.array(path)\n",
    "plt.contourf(x, y, z)\n",
    "plt.plot(path[:,0], path[:,1], 'r.-')\n",
    "plt.show()"
   ]
  },
  {
   "cell_type": "code",
   "execution_count": 29,
   "metadata": {},
   "outputs": [
    {
     "name": "stdout",
     "output_type": "stream",
     "text": [
      "79\n"
     ]
    }
   ],
   "source": [
    "print(i)"
   ]
  },
  {
   "cell_type": "markdown",
   "metadata": {},
   "source": [
    "### Problem 2\n",
    "Implement gradient descent with momentum for Matyas function with analytical and approximated gradient:\n",
    "$$f(x,y) = 0.26(x^2 + y^2) - 0.48xy$$\n",
    "on the interval $[-10;10] \\times [-10;10]$. Plot the behavior of the optimization process on the contour map of the function. \n",
    "\n",
    "Useful function: `pyplot.contour`, `np.meshgrid`"
   ]
  },
  {
   "cell_type": "code",
   "execution_count": 30,
   "metadata": {},
   "outputs": [],
   "source": [
    "import numpy as np\n",
    "import matplotlib.pyplot as plt\n",
    "#matplotlib inline"
   ]
  },
  {
   "cell_type": "code",
   "execution_count": 31,
   "metadata": {},
   "outputs": [],
   "source": [
    "x0, x1 = -10, 10\n",
    "y0, y1 = -10, 10\n",
    "def f(x,y):\n",
    "    return 0.26*(x**2+y**2) - 0.48*x*y"
   ]
  },
  {
   "cell_type": "code",
   "execution_count": 32,
   "metadata": {},
   "outputs": [],
   "source": [
    "N = 100\n",
    "x = np.linspace(x0, x1, N)\n",
    "y = np.linspace(y0, y1, N)\n",
    "xx, yy = np.meshgrid(x, y, sparse=True)\n",
    "z = f(xx, yy)"
   ]
  },
  {
   "cell_type": "code",
   "execution_count": 35,
   "metadata": {},
   "outputs": [],
   "source": [
    "def grad_closed_form(x):\n",
    "    return np.array([0.52*x[0]-0.48*x[1], 0.52*x[1]-0.48*x[0]])"
   ]
  },
  {
   "cell_type": "code",
   "execution_count": 72,
   "metadata": {},
   "outputs": [],
   "source": [
    "lr = 0.1\n",
    "m = 0.9\n",
    "np.random.seed(890)\n",
    "x_old = np.array([np.random.random()*20-10, np.random.random()*20-10])"
   ]
  },
  {
   "cell_type": "code",
   "execution_count": 73,
   "metadata": {},
   "outputs": [
    {
     "data": {
      "image/png": "[encoded data removed]",
      "text/plain": [
       "<Figure size 432x288 with 1 Axes>"
      ]
     },
     "metadata": {
      "needs_background": "light"
     },
     "output_type": "display_data"
    }
   ],
   "source": [
    "path = [x_old]\n",
    "vt = np.array([0,0])\n",
    "for i in range(1000):\n",
    "    vt = m*vt - lr*grad_closed_form(x_old)\n",
    "    x_new = x_old + vt\n",
    "    path.append(x_new)\n",
    "    x_old = x_new.copy()\n",
    "    \n",
    "    diff = np.sum(np.abs(path[-1] - path[-2]))\n",
    "    if diff < 1e-3:\n",
    "        break\n",
    "\n",
    "path = np.array(path)\n",
    "plt.contourf(x, y, z)\n",
    "plt.plot(path[:,0], path[:,1], 'r.-')\n",
    "plt.show()"
   ]
  },
  {
   "cell_type": "code",
   "execution_count": 74,
   "metadata": {},
   "outputs": [
    {
     "data": {
      "text/plain": [
       "445"
      ]
     },
     "execution_count": 74,
     "metadata": {},
     "output_type": "execute_result"
    }
   ],
   "source": [
    "i"
   ]
  },
  {
   "cell_type": "code",
   "execution_count": null,
   "metadata": {},
   "outputs": [],
   "source": []
  },
  {
   "cell_type": "code",
   "execution_count": null,
   "metadata": {},
   "outputs": [],
   "source": []
  },
  {
   "cell_type": "markdown",
   "metadata": {},
   "source": [
    "### Problem 3\n",
    "Implement gradient descent with Golden Ratio line search for Goldstein–Price function:\n",
    "$$f(x,y)=\\left[1+\\left(x+y+1\\right)^{2}\\left(19-14x+3x^{2}-14y+6xy+3y^{2}\\right)\\right]\n",
    "\\left[30+\\left(2x-3y\\right)^{2}\\left(18-32x+12x^{2}+48y-36xy+27y^{2}\\right)\\right]$$\n",
    "on the interval $[-10;10] \\times [-10;10]$. Plot the behavior of the optimization process on the contour map of the function. Find gradients using finite difference approximation.\n",
    "\n",
    "Useful function: `pyplot.contour`, `np.meshgrid`"
   ]
  },
  {
   "cell_type": "markdown",
   "metadata": {},
   "source": [
    "### Problem 4\n",
    "Implement gradient descent with Golden Ratio line search for Goldstein–Price function:\n",
    "$$f(x,y)=\\left[1+\\left(x+y+1\\right)^{2}\\left(19-14x+3x^{2}-14y+6xy+3y^{2}\\right)\\right]\n",
    "\\left[30+\\left(2x-3y\\right)^{2}\\left(18-32x+12x^{2}+48y-36xy+27y^{2}\\right)\\right]$$\n",
    "on the interval $[-10;10] \\times [-10;10]$. Plot the behavior of the optimization process on the contour map of the function. Find gradients analytically.\n",
    "\n",
    "Useful function: `pyplot.contour`, `np.meshgrid`"
   ]
  },
  {
   "cell_type": "markdown",
   "metadata": {},
   "source": [
    "### Problem 5\n",
    "Implement coordinate descent with Nesterov momentum for McCormick function ([link](https://www.sfu.ca/~ssurjano/mccorm.html)):\n",
    "$$f(x,y) = \\sin(x+y) + (x-y)^2-1.5x+2.5y+1$$\n",
    "on the interval $[-1.5;4] \\times [-3;4]$. Plot the behavior of the optimization process on the contour map of the function. Select starting point randomly as in previous problems.\n",
    "\n",
    "Useful function: `pyplot.contour`, `np.meshgrid`"
   ]
  }
 ],
 "metadata": {
  "kernelspec": {
   "display_name": "Python 3",
   "language": "python",
   "name": "python3"
  },
  "language_info": {
   "codemirror_mode": {
    "name": "ipython",
    "version": 3
   },
   "file_extension": ".py",
   "mimetype": "text/x-python",
   "name": "python",
   "nbconvert_exporter": "python",
   "pygments_lexer": "ipython3",
   "version": "3.8.8"
  }
 },
 "nbformat": 4,
 "nbformat_minor": 4
}
