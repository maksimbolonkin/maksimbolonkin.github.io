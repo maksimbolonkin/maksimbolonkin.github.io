{
 "cells": [
  {
   "cell_type": "markdown",
   "id": "431725ed",
   "metadata": {},
   "source": [
    "### Problem 1\n",
    "Read the noisy text data from the datafile typos20.data.\n",
    "- Estimate output probabilities\n",
    "- Estimate transition probabilities\n",
    "\n",
    "Use Laplace smoothing.\n",
    "\n",
    "Implement Viterbi algorithm for HMM. Find the most likely original text."
   ]
  },
  {
   "cell_type": "code",
   "execution_count": 1,
   "id": "102c00ce",
   "metadata": {},
   "outputs": [],
   "source": [
    "import numpy as np"
   ]
  },
  {
   "cell_type": "code",
   "execution_count": 2,
   "id": "7fbaebaf",
   "metadata": {},
   "outputs": [],
   "source": [
    "orig = []\n",
    "typo = []\n",
    "\n",
    "c2i = {}\n",
    "\n",
    "i = 1\n",
    "with open('data_files/typos20.data') as fin:\n",
    "    for line in fin:\n",
    "        orig.append(line[0])\n",
    "        if line[0] not in c2i:\n",
    "            c2i[line[0]] = i\n",
    "            i += 1\n",
    "        typo.append(line[2])\n",
    "        if line[2] not in c2i:\n",
    "            c2i[line[2]] = i\n",
    "            i += 1"
   ]
  },
  {
   "cell_type": "code",
   "execution_count": 6,
   "id": "8d53da8c",
   "metadata": {},
   "outputs": [],
   "source": [
    "i2c = {}\n",
    "for c in c2i:\n",
    "    i2c[c2i[c]] = c"
   ]
  },
  {
   "cell_type": "code",
   "execution_count": 3,
   "id": "ca22deb1",
   "metadata": {},
   "outputs": [],
   "source": [
    "N = len(c2i)\n",
    "\n",
    "B = np.zeros((N+1, N+1))\n",
    "B[1:, 1:] = 1\n",
    "\n",
    "for i in range(len(orig)):\n",
    "    i1 = c2i[orig[i]]\n",
    "    i2 = c2i[typo[i]]\n",
    "    B[i1, i2] += 1\n",
    "for i in range(1, B.shape[0]):\n",
    "    val = np.sum(B[i,:])\n",
    "    for j in range(B.shape[1]):\n",
    "        B[i,j] = B[i,j]/val"
   ]
  },
  {
   "cell_type": "code",
   "execution_count": 4,
   "id": "b37d7751",
   "metadata": {},
   "outputs": [],
   "source": [
    "A = np.zeros((N+1, N+1))\n",
    "A[0,1:] = 1.0/N\n",
    "A[1:, 1:] = 1 # for Laplace smoothing\n",
    "\n",
    "for i in range(1, len(orig)):\n",
    "    i1 = c2i[orig[i-1]]\n",
    "    i2 = c2i[orig[i]]\n",
    "    A[i1, i2] += 1\n",
    "for i in range(A.shape[0]):\n",
    "    val = np.sum(A[i,:])\n",
    "    for j in range(A.shape[1]):\n",
    "        A[i,j] = A[i,j]/val"
   ]
  },
  {
   "cell_type": "code",
   "execution_count": 19,
   "id": "dd61f2bd",
   "metadata": {},
   "outputs": [],
   "source": [
    "P = np.zeros((N+1, len(typo)+1))\n",
    "S = np.zeros((N+1, len(typo)+1))\n",
    "# P[i, j] = prob. to be in state i at time j\n",
    "# S[i,j] = previous state\n",
    "P[1:,0] = 1.0/N\n",
    "S[1:,0] = 0\n",
    "\n",
    "for i1, c in enumerate(typo):\n",
    "    i = i1+1\n",
    "    ic = c2i[c]\n",
    "    for si in range(1, N+1):\n",
    "        maxp = P[1,i-1] + np.log(A[1, si]) + np.log(B[si, ic])\n",
    "        maxs = 1\n",
    "        for sii in range(1, N+1):\n",
    "            p = P[sii,i-1] + np.log(A[sii, si]) + np.log(B[si, ic])\n",
    "            if p>maxp:\n",
    "                maxp = p\n",
    "                maxs = sii\n",
    "        P[si, i] = maxp\n",
    "        S[si, i] = maxs"
   ]
  },
  {
   "cell_type": "code",
   "execution_count": 37,
   "id": "94ad42d9",
   "metadata": {},
   "outputs": [],
   "source": [
    "# backwards tracing\n",
    "i = P.shape[1]-1\n",
    "s = np.argmax(P[1:,-1])\n",
    "\n",
    "\n",
    "result = []\n",
    "while i>0:\n",
    "    result.append(i2c[s])\n",
    "    s = int(S[s,i])\n",
    "    i -= 1\n",
    "result.reverse()"
   ]
  },
  {
   "cell_type": "code",
   "execution_count": 38,
   "id": "88414ca4",
   "metadata": {},
   "outputs": [
    {
     "data": {
      "text/plain": [
       "181045"
      ]
     },
     "execution_count": 38,
     "metadata": {},
     "output_type": "execute_result"
    }
   ],
   "source": [
    "len(result)"
   ]
  },
  {
   "cell_type": "code",
   "execution_count": 39,
   "id": "01f3b10b",
   "metadata": {},
   "outputs": [
    {
     "name": "stdout",
     "output_type": "stream",
     "text": [
      "0.16530144439227817\n",
      "0.10481924383440581\n"
     ]
    }
   ],
   "source": [
    "errors = 0\n",
    "for i in range(len(orig)):\n",
    "    if orig[i] != typo[i]:\n",
    "        errors += 1\n",
    "print(errors/len(orig))\n",
    "\n",
    "errors = 0\n",
    "for i in range(len(orig)):\n",
    "    if orig[i] != result[i]:\n",
    "        errors += 1\n",
    "print(errors/len(orig))"
   ]
  },
  {
   "cell_type": "code",
   "execution_count": null,
   "id": "3a8b4c9f",
   "metadata": {},
   "outputs": [],
   "source": []
  }
 ],
 "metadata": {
  "kernelspec": {
   "display_name": "Python 3",
   "language": "python",
   "name": "python3"
  },
  "language_info": {
   "codemirror_mode": {
    "name": "ipython",
    "version": 3
   },
   "file_extension": ".py",
   "mimetype": "text/x-python",
   "name": "python",
   "nbconvert_exporter": "python",
   "pygments_lexer": "ipython3",
   "version": "3.8.8"
  }
 },
 "nbformat": 4,
 "nbformat_minor": 5
}
