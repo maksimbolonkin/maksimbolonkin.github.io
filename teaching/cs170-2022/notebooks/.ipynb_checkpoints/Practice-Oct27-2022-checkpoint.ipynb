{
 "cells": [
  {
   "cell_type": "markdown",
   "metadata": {},
   "source": [
    "### Problem 1\n",
    "Consider Ackley Function [link](https://en.wikipedia.org/wiki/Ackley_function) on the interval $[-5; 5] \\times [-5; 5]$:\n",
    "$$f(x,y) = -20\\exp\\left[-0.2\\sqrt{0.5(x^2+y^2)}\\right] -\\exp\\left[0.5(\\cos 2\\pi x + \\cos 2\\pi y))\\right] + e + 20$$\n",
    "Find the global minimum value of this function using Simulated Annealing algorithm with Gaussian state change (finding next point by adding Gaussian random values). Plot the progressive steps on the contour map of the function."
   ]
  },
  {
   "cell_type": "markdown",
   "metadata": {},
   "source": [
    "### Problem 2\n",
    "Consider Rastrigin Function [link](https://en.wikipedia.org/wiki/Rastrigin_function) on the interval $[-5.12; 5.12] \\times [-5.12; 5.12]$:\n",
    "$$f(x,y) = 20 + (x^2 - 10\\cos2\\pi x) + (y^2 - 10\\cos2\\pi y)$$\n",
    "Find the global minimum value of this function using Particle Swarm Optimization with $N$ particles. Try various values of $N$. Plot the progressive steps on the contour map of the function."
   ]
  },
  {
   "cell_type": "markdown",
   "metadata": {},
   "source": [
    "### Problem 3\n",
    "Consider Ackley or Rastrigin Function from previous problems. Find the global minimum value of this function using following methods:\n",
    " - Constricted Coefficients PSO\n",
    " - Full Information PSO\n",
    "\n",
    "Try various values of $N$. Plot the progressive steps on the contour map of the function."
   ]
  }
 ],
 "metadata": {
  "kernelspec": {
   "display_name": "Python 3",
   "language": "python",
   "name": "python3"
  },
  "language_info": {
   "codemirror_mode": {
    "name": "ipython",
    "version": 3
   },
   "file_extension": ".py",
   "mimetype": "text/x-python",
   "name": "python",
   "nbconvert_exporter": "python",
   "pygments_lexer": "ipython3",
   "version": "3.8.8"
  }
 },
 "nbformat": 4,
 "nbformat_minor": 2
}
