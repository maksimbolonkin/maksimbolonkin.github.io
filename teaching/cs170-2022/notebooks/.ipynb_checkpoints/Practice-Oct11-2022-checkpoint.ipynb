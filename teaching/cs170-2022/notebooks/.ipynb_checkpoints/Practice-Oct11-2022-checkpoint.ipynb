{
 "cells": [
  {
   "cell_type": "markdown",
   "metadata": {},
   "source": [
    "# Matrix decomposition"
   ]
  },
  {
   "cell_type": "markdown",
   "metadata": {},
   "source": [
    "### Problem 0\n",
    "\n",
    "Generate random matrix of a reasonable size, perform SVD decomposition, obtain initial matrix from it, calculate the error."
   ]
  },
  {
   "cell_type": "markdown",
   "metadata": {},
   "source": [
    "### Problem 1\n",
    "Load *rocket* image from scikit-image library (make sure you're working with normalized pixel values):\n",
    "\n",
    "`from skimage import data\n",
    "from skimage.color import rgb2gray\n",
    "img = data.rocket()\n",
    "gr_img = rgb2gray(img)`\n",
    "\n",
    "Perform SVD decomposition, try restoring the image with $1, 2, \\ldots, k$ singular vectors, check at which $k$ the restored result is reasonably good. Calculate the reduction in necessary storage for the image compared to the original image. Then try performing the same process with colored version separately for each channel (same $k$ for every channel, different $k$ for every channels). Try the same for *chelsea* image: which image takes more data to restore to the tolerable quality?"
   ]
  },
  {
   "cell_type": "markdown",
   "metadata": {},
   "source": [
    "### Problem 2\n",
    "Load *digits* dataset:\n",
    "\n",
    "`from sklearn.datasets import load_digits\n",
    "digits = load_digits()`\n",
    "\n",
    "Perform SVD on the data, inspect the singular values, try reconstructing the data with some fixed number of singular vectors, check the visual quality of the reconstruted samples. Try the same with a subset of images corresponding to a specific digit of your choice - how many singular vectors you need for similar quality of reconstriction?"
   ]
  },
  {
   "cell_type": "code",
   "execution_count": null,
   "metadata": {},
   "outputs": [],
   "source": []
  }
 ],
 "metadata": {
  "kernelspec": {
   "display_name": "Python 3",
   "language": "python",
   "name": "python3"
  },
  "language_info": {
   "codemirror_mode": {
    "name": "ipython",
    "version": 3
   },
   "file_extension": ".py",
   "mimetype": "text/x-python",
   "name": "python",
   "nbconvert_exporter": "python",
   "pygments_lexer": "ipython3",
   "version": "3.8.8"
  }
 },
 "nbformat": 4,
 "nbformat_minor": 2
}
