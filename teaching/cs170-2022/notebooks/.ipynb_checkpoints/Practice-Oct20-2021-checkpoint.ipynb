{
 "cells": [
  {
   "cell_type": "markdown",
   "metadata": {},
   "source": [
    "### Problem 1\n",
    "\n",
    "Generate a set of points from an exponential distribution with some parameter $\\lambda$. Derive the Maximum Likelihood estimator for the exponentian distribution, estimate the parameter and compare to the known true parameter."
   ]
  },
  {
   "cell_type": "markdown",
   "metadata": {},
   "source": [
    "$$\\lambda_{MLE} = \\frac{n}{\\sum x_i}$$"
   ]
  },
  {
   "cell_type": "code",
   "execution_count": 1,
   "metadata": {},
   "outputs": [],
   "source": [
    "import numpy as np"
   ]
  },
  {
   "cell_type": "code",
   "execution_count": 8,
   "metadata": {},
   "outputs": [
    {
     "name": "stdout",
     "output_type": "stream",
     "text": [
      "19.896652322246016 0.5167383887699195\n",
      "20.70260592181306 3.513029609065299\n",
      "20.259097661426143 1.2954883071307144\n",
      "19.994608130255717 0.02695934872141592\n"
     ]
    }
   ],
   "source": [
    "l = 20\n",
    "for s in [100, 1000, 10000, 100000]:\n",
    "    x = np.random.exponential(scale=1/l, size=s)\n",
    "    l_est = s/x.sum()\n",
    "    print(l_est, np.abs(l_est-l)/l*100)"
   ]
  },
  {
   "cell_type": "code",
   "execution_count": null,
   "metadata": {},
   "outputs": [],
   "source": []
  },
  {
   "cell_type": "markdown",
   "metadata": {},
   "source": [
    "### Problem 2\n",
    "\n",
    "Generate a second set of points from an exponential distribution with the parameter $\\lambda_{true}+\\delta$. Derive the Maximum Aposteriori estimate for the parameter of the distribution in Problem 1 assuming that the prior is normally distributed with $\\mu = \\lambda_{true}$ and $\\sigma = \\frac{\\delta}{2}$. Calculate posterior probability of the second set of points."
   ]
  },
  {
   "cell_type": "markdown",
   "metadata": {},
   "source": [
    "$$\\lambda_{\\text{MAP}} = \\frac{1}{2}\\left(\\lambda^{*} - \\sigma^2\\sum x_i + \\sqrt{\\left(\\lambda^{*} - \\sigma^2\\sum x_i\\right)^2+4n\\sigma^2}\\right)$$"
   ]
  },
  {
   "cell_type": "code",
   "execution_count": 9,
   "metadata": {},
   "outputs": [],
   "source": [
    "l_true = 2\n",
    "delta = 0.05\n",
    "l = l_true + delta\n",
    "sigma = delta/2"
   ]
  },
  {
   "cell_type": "code",
   "execution_count": 10,
   "metadata": {},
   "outputs": [],
   "source": [
    "n = 1000\n",
    "x_1 = np.random.exponential(scale=1/l_true, size=n)\n",
    "x_2 = np.random.exponential(scale=1/l, size=n)"
   ]
  },
  {
   "cell_type": "code",
   "execution_count": 16,
   "metadata": {},
   "outputs": [
    {
     "name": "stdout",
     "output_type": "stream",
     "text": [
      "2.05 2.0053211109706814 2.0401523419197165\n"
     ]
    }
   ],
   "source": [
    "l_map = (l_true-sigma**2*x_2.sum() + np.sqrt((l_true-sigma**2*x_2.sum())**2 + 4*n*sigma**2))/2\n",
    "print(l, l_map, n/x_2.sum())"
   ]
  },
  {
   "cell_type": "markdown",
   "metadata": {},
   "source": [
    "### Problem 3\n",
    "\n",
    "Select parameters for two non-collinear lines\n",
    "$$y = a^{(i)}x + b^{(i)}$$\n",
    "Generate 25 points on each line in the range $x \\in [0; 10]$, add random gaussian noise with zero mean and std $\\sigma = 0.5$ to each point. Plot to verify that task looks reasonable. Combine all generated points into one array and treat it as an input data.\n",
    "\n",
    "Implement EM algorithm to estimate parameters of lines. Plot lines to visually verify goodness of fit (plotting lines and corresponding points in different color). Report average MSE for both lines."
   ]
  },
  {
   "cell_type": "code",
   "execution_count": 25,
   "metadata": {},
   "outputs": [],
   "source": [
    "import numpy as np\n",
    "import matplotlib.pyplot as plt\n",
    "import numpy.linalg as la"
   ]
  },
  {
   "cell_type": "code",
   "execution_count": 19,
   "metadata": {},
   "outputs": [
    {
     "data": {
      "image/png": "[encoded data removed]",
      "text/plain": [
       "<Figure size 432x288 with 1 Axes>"
      ]
     },
     "metadata": {
      "needs_background": "light"
     },
     "output_type": "display_data"
    }
   ],
   "source": [
    "a = np.array([-2, 0.8])\n",
    "b = np.array([8, -4])\n",
    "\n",
    "x_base = np.linspace(0, 10, 100)\n",
    "plt.plot(x_base, a[0]*x_base+b[0], 'r-')\n",
    "plt.plot(x_base, a[1]*x_base+b[1], 'b-')\n",
    "plt.show()"
   ]
  },
  {
   "cell_type": "code",
   "execution_count": 20,
   "metadata": {},
   "outputs": [
    {
     "data": {
      "image/png": "[encoded data removed]",
      "text/plain": [
       "<Figure size 432x288 with 1 Axes>"
      ]
     },
     "metadata": {
      "needs_background": "light"
     },
     "output_type": "display_data"
    }
   ],
   "source": [
    "x0 = np.random.uniform(0, 10, size=25)\n",
    "y0 = a[0]*x0 + b[0] + np.random.normal(0, 0.5, size=25)\n",
    "x1 = np.random.uniform(0, 10, size=25)\n",
    "y1 = a[1]*x1 + b[1] + np.random.normal(0, 0.5, size=25)\n",
    "plt.plot(x_base, a[0]*x_base+b[0], 'r-')\n",
    "plt.plot(x0, y0, 'r.')\n",
    "plt.plot(x_base, a[1]*x_base+b[1], 'b-')\n",
    "plt.plot(x1, y1, 'b.')\n",
    "plt.show()"
   ]
  },
  {
   "cell_type": "code",
   "execution_count": 21,
   "metadata": {},
   "outputs": [
    {
     "data": {
      "image/png": "[encoded data removed]",
      "text/plain": [
       "<Figure size 432x288 with 1 Axes>"
      ]
     },
     "metadata": {
      "needs_background": "light"
     },
     "output_type": "display_data"
    }
   ],
   "source": [
    "X = np.zeros((50, 2))\n",
    "X[:25, 0] = x0\n",
    "X[:25, 1] = y0\n",
    "X[25:, 0] = x1\n",
    "X[25:, 1] = y1\n",
    "\n",
    "plt.plot(X[:,0], X[:,1], 'k.')\n",
    "plt.show()"
   ]
  },
  {
   "cell_type": "code",
   "execution_count": 26,
   "metadata": {},
   "outputs": [
    {
     "data": {
      "image/png": "[encoded data removed]",
      "text/plain": [
       "<Figure size 432x288 with 1 Axes>"
      ]
     },
     "metadata": {
      "needs_background": "light"
     },
     "output_type": "display_data"
    },
    {
     "data": {
      "image/png": "[encoded data removed]",
      "text/plain": [
       "<Figure size 432x288 with 1 Axes>"
      ]
     },
     "metadata": {
      "needs_background": "light"
     },
     "output_type": "display_data"
    }
   ],
   "source": [
    "n = 50\n",
    "sigma=1\n",
    "W1, W2 = np.eye(n)/2, np.eye(n)/2\n",
    "theta1, theta2 = np.random.random(2), np.random.random(2)\n",
    "theta1_old = theta1.copy()\n",
    "theta2_old = theta2.copy()\n",
    "for i in range(100):\n",
    "    # E-step\n",
    "    delta1 = np.abs(X[:,0]*theta1[0] + theta1[1] - X[:,1])\n",
    "    delta2 = np.abs(X[:,0]*theta2[0] + theta2[1] - X[:,1])\n",
    "    w1 = np.exp(-delta1**2/sigma)/(np.exp(-delta1**2/sigma) + np.exp(-delta2**2/sigma))\n",
    "    w2 = np.exp(-delta2**2/sigma)/(np.exp(-delta1**2/sigma) + np.exp(-delta2**2/sigma))\n",
    "    W1, W2 = np.diag(w1), np.diag(w2)\n",
    "\n",
    "    # M-step\n",
    "    A = np.ones((n, 2))\n",
    "    A[:,0] = X[:,0]\n",
    "    WA1, WA2 = W1@A, W2@A\n",
    "    b1, b2 = WA1.T @ X[:,1], WA2.T @ X[:,1]\n",
    "    theta1 = la.inv(WA1.T @ WA1) @ b1\n",
    "    theta2 = la.inv(WA2.T @ WA2) @ b2\n",
    "\n",
    "    plt.plot(X[:,0], X[:,1], 'k.')\n",
    "    plt.plot(x_base, theta1[0]*x_base+theta1[1], 'r-')\n",
    "    plt.plot(x_base, theta2[0]*x_base+theta2[1], 'b-')\n",
    "    plt.show()\n",
    "    \n",
    "    if i > 0:\n",
    "        if np.abs(theta1_old-theta1).sum() + np.abs(theta2_old-theta2).sum() < 0.01:\n",
    "            break\n",
    "    theta1_old = theta1.copy()\n",
    "    theta2_old = theta2.copy()\n"
   ]
  },
  {
   "cell_type": "code",
   "execution_count": null,
   "metadata": {},
   "outputs": [],
   "source": []
  },
  {
   "cell_type": "code",
   "execution_count": null,
   "metadata": {},
   "outputs": [],
   "source": []
  },
  {
   "cell_type": "markdown",
   "metadata": {},
   "source": [
    "### Problem 4\n",
    "\n",
    "Generate 150 random 2D points from Mixture of Gaussians (select distinct centers and covariance matrices, and some mixing coefficients)\n",
    "$$p(x) = \\sum_{i=1}^{3}\\pi_i\\mathcal{N}(x; \\mu_i, \\Sigma_i)$$\n",
    "\n",
    "Implement EM-algorithm to fit the model.\n",
    "\n",
    "np.random.multivariate_normal"
   ]
  }
 ],
 "metadata": {
  "kernelspec": {
   "display_name": "Python 3",
   "language": "python",
   "name": "python3"
  },
  "language_info": {
   "codemirror_mode": {
    "name": "ipython",
    "version": 3
   },
   "file_extension": ".py",
   "mimetype": "text/x-python",
   "name": "python",
   "nbconvert_exporter": "python",
   "pygments_lexer": "ipython3",
   "version": "3.8.8"
  }
 },
 "nbformat": 4,
 "nbformat_minor": 2
}
