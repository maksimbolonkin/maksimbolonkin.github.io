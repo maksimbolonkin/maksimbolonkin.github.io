{
 "cells": [
  {
   "cell_type": "markdown",
   "metadata": {},
   "source": [
    "### Problem 1\n",
    "\n",
    "Generate 1000 points from a standard normal distribution using Box-Muller transormation\n",
    "$$Z = \\sqrt{-2\\log U_1}\\cos 2\\pi U_2,~~ U_1, U_2 \\sim U[0,1]$$\n",
    "Plot the histogram of the points (``plt.hist``)"
   ]
  },
  {
   "cell_type": "markdown",
   "metadata": {},
   "source": [
    "### Problem 2\n",
    "Generate 1000 points from the distribution with the following PDF:\n",
    "$$p(x) = \\begin{cases}\n",
    "\\frac{1}{2x},~x\\in [1, e^2]\\\\\n",
    "0,~\\text{otherwise}.\n",
    "\\end{cases}$$\n",
    "Plot the histogram and compare with actual PDF."
   ]
  },
  {
   "cell_type": "markdown",
   "metadata": {},
   "source": [
    "### Problem 3\n",
    "Generate 1000 points from the distribution with the following PDF using rejection sampling:\n",
    "$$p(x) = \\frac{1}{\\alpha}x\\cos x, ~x\\in [0; \\pi/2], ~\\alpha = \\pi/2-1$$\n",
    "Plot the histogram and compare with actual PDF."
   ]
  },
  {
   "cell_type": "markdown",
   "metadata": {},
   "source": [
    "### Problem 4\n",
    "Find the value of the integral using Monte-Carlo method, compare to the actual value of the integral\n",
    "$$\\int_{1}^{2}xe^{-2x^2}dx$$"
   ]
  },
  {
   "cell_type": "markdown",
   "metadata": {},
   "source": [
    "### Problem 5\n",
    "We have an agent that behaves in the following way:\n",
    "- It starts moving at the point $x=0$\n",
    "- With probability 0.5 it goes right for 1 unit $x \\leftarrow x+1$\n",
    "- With probability 0.2 it goes left for 3 units $x \\leftarrow x-3$\n",
    "- with probability 0.25 it undoes the last action\n",
    "- with probability 0.05 it returns to the origin\n",
    "\n",
    "Plot the probability distribution of where the agent can end up after 100 steps. If we to set up a charging stations, where we should put those?"
   ]
  },
  {
   "cell_type": "markdown",
   "metadata": {},
   "source": [
    "### Problem 6\n",
    "\n",
    "Find the volume of a unit 3-D sphere.\n",
    "\n",
    "Find volume of the unit 4-D sphere.\n",
    "Compare to the precise value $V = \\frac{\\pi^2}{2}$"
   ]
  }
 ],
 "metadata": {
  "kernelspec": {
   "display_name": "Python 3",
   "language": "python",
   "name": "python3"
  },
  "language_info": {
   "codemirror_mode": {
    "name": "ipython",
    "version": 3
   },
   "file_extension": ".py",
   "mimetype": "text/x-python",
   "name": "python",
   "nbconvert_exporter": "python",
   "pygments_lexer": "ipython3",
   "version": "3.8.8"
  }
 },
 "nbformat": 4,
 "nbformat_minor": 2
}
