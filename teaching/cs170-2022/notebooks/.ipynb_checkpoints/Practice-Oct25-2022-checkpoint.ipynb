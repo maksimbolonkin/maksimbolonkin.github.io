{
 "cells": [
  {
   "cell_type": "markdown",
   "metadata": {},
   "source": [
    "### Problem 1\n",
    "Implement coordinate descent with analytic line search for Matyas function:\n",
    "$$f(x,y) = 0.26(x^2 + y^2) - 0.48xy$$\n",
    "on the interval $[-10;10] \\times [-10;10]$. Plot the behavior of the optimization process on the contour map of the function. \n",
    "\n",
    "Useful function: `pyplot.contour`, `np.meshgrid`"
   ]
  },
  {
   "cell_type": "markdown",
   "metadata": {},
   "source": [
    "### Problem 2\n",
    "Implement gradient descent with momentum for Matyas function with analytical and approximated gradient:\n",
    "$$f(x,y) = 0.26(x^2 + y^2) - 0.48xy$$\n",
    "on the interval $[-10;10] \\times [-10;10]$. Plot the behavior of the optimization process on the contour map of the function. \n",
    "\n",
    "Useful function: `pyplot.contour`, `np.meshgrid`"
   ]
  },
  {
   "cell_type": "markdown",
   "metadata": {},
   "source": []
  },
  {
   "cell_type": "markdown",
   "metadata": {},
   "source": [
    "### Problem 3\n",
    "Implement gradient descent with Golden Ratio line search for Goldstein–Price function:\n",
    "$$f(x,y)=\\left[1+\\left(x+y+1\\right)^{2}\\left(19-14x+3x^{2}-14y+6xy+3y^{2}\\right)\\right]\n",
    "\\left[30+\\left(2x-3y\\right)^{2}\\left(18-32x+12x^{2}+48y-36xy+27y^{2}\\right)\\right]$$\n",
    "on the interval $[-10;10] \\times [-10;10]$. Plot the behavior of the optimization process on the contour map of the function. Find gradients using finite difference approximation.\n",
    "\n",
    "Useful function: `pyplot.contour`, `np.meshgrid`"
   ]
  },
  {
   "cell_type": "markdown",
   "metadata": {},
   "source": [
    "### Problem 4\n",
    "Implement gradient descent with Golden Ratio line search for Goldstein–Price function:\n",
    "$$f(x,y)=\\left[1+\\left(x+y+1\\right)^{2}\\left(19-14x+3x^{2}-14y+6xy+3y^{2}\\right)\\right]\n",
    "\\left[30+\\left(2x-3y\\right)^{2}\\left(18-32x+12x^{2}+48y-36xy+27y^{2}\\right)\\right]$$\n",
    "on the interval $[-10;10] \\times [-10;10]$. Plot the behavior of the optimization process on the contour map of the function. Find gradients analytically.\n",
    "\n",
    "Useful function: `pyplot.contour`, `np.meshgrid`"
   ]
  },
  {
   "cell_type": "markdown",
   "metadata": {},
   "source": [
    "### Problem 5\n",
    "Implement coordinate descent with Nesterov momentum for McCormick function ([link](https://www.sfu.ca/~ssurjano/mccorm.html)):\n",
    "$$f(x,y) = \\sin(x+y) + (x-y)^2-1.5x+2.5y+1$$\n",
    "on the interval $[-1.5;4] \\times [-3;4]$. Plot the behavior of the optimization process on the contour map of the function. Select starting point randomly as in previous problems.\n",
    "\n",
    "Useful function: `pyplot.contour`, `np.meshgrid`"
   ]
  }
 ],
 "metadata": {
  "kernelspec": {
   "display_name": "Python 3",
   "language": "python",
   "name": "python3"
  },
  "language_info": {
   "codemirror_mode": {
    "name": "ipython",
    "version": 3
   },
   "file_extension": ".py",
   "mimetype": "text/x-python",
   "name": "python",
   "nbconvert_exporter": "python",
   "pygments_lexer": "ipython3",
   "version": "3.8.8"
  }
 },
 "nbformat": 4,
 "nbformat_minor": 4
}
