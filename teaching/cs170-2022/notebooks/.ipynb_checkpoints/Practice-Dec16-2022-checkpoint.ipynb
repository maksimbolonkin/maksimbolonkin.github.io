{
 "cells": [
  {
   "cell_type": "markdown",
   "metadata": {},
   "source": [
    "### Problem 1\n",
    "Generate two sine signals with different frequencies and phases. Generate linear combination of these signals, add small gaussian noise. Use FFT to find base frequencies used in the combined signal."
   ]
  },
  {
   "cell_type": "markdown",
   "metadata": {},
   "source": [
    "### Problem 2\n",
    "Generate a sine wave with high frequency noise. Plot the spectrum of the signal. Filter the signal with moving average with different sizes of the window, plot the spectrum and filtered signal. "
   ]
  },
  {
   "cell_type": "markdown",
   "metadata": {},
   "source": [
    "### Problem 3\n",
    "\n",
    "Load an image (any image, for instance `skimage.data.camera()`) and add salt-and-pepper noise. \n",
    "Implement \n",
    "- mean filter\n",
    "- median filter\n",
    "- conservative smoothing. \n",
    "\n",
    "Show the image filtered with both filters. Try various sizes of the filters."
   ]
  },
  {
   "cell_type": "markdown",
   "metadata": {},
   "source": [
    "### Problem 4\n",
    "Read the image (any image, for instance `skimage.data.camera()`) as a grayscale image, perform low-pass filtering by performing FFT, zeroing-out all frequencies but small ones and performing inverse FFT. Plot original image, filtered image and amplitude of fft.\n",
    "\n",
    "Useful functions: `np.fft.fft2`, `np.fft.fftshift`, `np.fft.ifft2`"
   ]
  },
  {
   "cell_type": "markdown",
   "metadata": {},
   "source": [
    "### Problem 5\n",
    "Read the image, implement unsharp filter, apply to the image."
   ]
  }
 ],
 "metadata": {
  "kernelspec": {
   "display_name": "Python 3",
   "language": "python",
   "name": "python3"
  },
  "language_info": {
   "codemirror_mode": {
    "name": "ipython",
    "version": 3
   },
   "file_extension": ".py",
   "mimetype": "text/x-python",
   "name": "python",
   "nbconvert_exporter": "python",
   "pygments_lexer": "ipython3",
   "version": "3.8.8"
  }
 },
 "nbformat": 4,
 "nbformat_minor": 4
}
