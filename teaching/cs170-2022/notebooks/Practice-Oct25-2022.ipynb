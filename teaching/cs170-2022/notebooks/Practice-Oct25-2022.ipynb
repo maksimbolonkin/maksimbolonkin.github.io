{
 "cells": [
  {
   "cell_type": "markdown",
   "metadata": {},
   "source": [
    "### Problem 1\n",
    "Implement coordinate descent with analytic line search for Matyas function:\n",
    "$$f(x,y) = 0.26(x^2 + y^2) - 0.48xy$$\n",
    "on the interval $[-10;10] \\times [-10;10]$. Plot the behavior of the optimization process on the contour map of the function. \n",
    "\n",
    "Useful function: `pyplot.contour`, `np.meshgrid`"
   ]
  },
  {
   "cell_type": "code",
   "execution_count": 71,
   "metadata": {},
   "outputs": [],
   "source": [
    "import numpy as np\n",
    "import matplotlib.pyplot as plt\n",
    "import numpy.linalg as la"
   ]
  },
  {
   "cell_type": "code",
   "execution_count": 2,
   "metadata": {},
   "outputs": [],
   "source": [
    "def f(x, y):\n",
    "    return 0.26*(x**2 + y**2) - 0.48*x*y"
   ]
  },
  {
   "cell_type": "code",
   "execution_count": 3,
   "metadata": {},
   "outputs": [
    {
     "data": {
      "image/png": "[encoded data removed]",
      "text/plain": [
       "<Figure size 432x288 with 1 Axes>"
      ]
     },
     "metadata": {
      "needs_background": "light"
     },
     "output_type": "display_data"
    }
   ],
   "source": [
    "x_min, x_max = -10, 10\n",
    "y_min, y_max = -10, 10\n",
    "\n",
    "x_base = np.linspace(x_min, x_max, 100)\n",
    "y_base = np.linspace(y_min, y_max, 100)\n",
    "\n",
    "xx, yy = np.meshgrid(x_base, y_base, sparse=True)\n",
    "z = f(xx, yy)\n",
    "plt.contourf(x_base, y_base, z)\n",
    "plt.show()"
   ]
  },
  {
   "cell_type": "code",
   "execution_count": 16,
   "metadata": {},
   "outputs": [],
   "source": [
    "def line_search_analitic(x, d):\n",
    "    alpha = (12*x[0]*d[1] + 12*x[1]*d[0] - 13*x[0]*d[0] - 13*x[1]*d[1])/(13*d[0]**2 + 13*d[1]**2 -24*d[0]*d[1])\n",
    "    return x + d*alpha"
   ]
  },
  {
   "cell_type": "code",
   "execution_count": 17,
   "metadata": {},
   "outputs": [],
   "source": [
    "x0 = np.array([np.random.uniform(x_min, x_max, 1), np.random.uniform(y_min, y_max, 1)]).reshape((2,))"
   ]
  },
  {
   "cell_type": "code",
   "execution_count": 21,
   "metadata": {},
   "outputs": [],
   "source": [
    "x_prev = x0.copy()\n",
    "d_x = np.array([1, 0])\n",
    "d_y = np.array([0, 1])\n",
    "opt_trajectory = [x_prev]\n",
    "for i in range(100):\n",
    "    x_next = line_search_analitic(x_prev, d_x)\n",
    "    x_prev = x_next.copy()\n",
    "    opt_trajectory.append(x_prev.copy())\n",
    "    x_next = line_search_analitic(x_prev, d_y)\n",
    "    x_prev = x_next.copy()\n",
    "    opt_trajectory.append(x_prev.copy())\n",
    "    \n",
    "    if np.abs(f(opt_trajectory[-1][0], opt_trajectory[-1][1])-f(opt_trajectory[-2][0], opt_trajectory[-2][1]))<1e-7:\n",
    "        break"
   ]
  },
  {
   "cell_type": "code",
   "execution_count": 22,
   "metadata": {},
   "outputs": [
    {
     "name": "stdout",
     "output_type": "stream",
     "text": [
      "81 [-0.00346901 -0.00320216] 4.628469428680066e-07\n"
     ]
    }
   ],
   "source": [
    "print(len(opt_trajectory), opt_trajectory[-1], f(opt_trajectory[-1][0], opt_trajectory[-1][1]))"
   ]
  },
  {
   "cell_type": "code",
   "execution_count": 24,
   "metadata": {},
   "outputs": [
    {
     "data": {
      "image/png": "[encoded data removed]",
      "text/plain": [
       "<Figure size 432x288 with 1 Axes>"
      ]
     },
     "metadata": {
      "needs_background": "light"
     },
     "output_type": "display_data"
    }
   ],
   "source": [
    "plt.contourf(x_base, y_base, z)\n",
    "plt.plot(np.array(opt_trajectory)[:,0], np.array(opt_trajectory)[:,1], 'y.-')\n",
    "plt.show()"
   ]
  },
  {
   "cell_type": "markdown",
   "metadata": {},
   "source": [
    "### Problem 2\n",
    "Implement gradient descent with momentum for Matyas function with analytical and approximated gradient:\n",
    "$$f(x,y) = 0.26(x^2 + y^2) - 0.48xy$$\n",
    "on the interval $[-10;10] \\times [-10;10]$. Plot the behavior of the optimization process on the contour map of the function. Compare with regular gradient descent.\n",
    "\n",
    "Useful function: `pyplot.contour`, `np.meshgrid`"
   ]
  },
  {
   "cell_type": "code",
   "execution_count": null,
   "metadata": {},
   "outputs": [],
   "source": [
    "x0 = np.array([np.random.uniform(x_min, x_max, 1), np.random.uniform(y_min, y_max, 1)]).reshape((2,))"
   ]
  },
  {
   "cell_type": "code",
   "execution_count": 23,
   "metadata": {},
   "outputs": [],
   "source": [
    "def grad_f(x, y):\n",
    "    return np.array([0.52*x - 0.48*y, 0.52*y-0.48*x])"
   ]
  },
  {
   "cell_type": "code",
   "execution_count": 32,
   "metadata": {},
   "outputs": [],
   "source": [
    "x_prev = x0.copy()\n",
    "opt_trajectory = [x_prev]\n",
    "gamma = 0.9\n",
    "lr = 0.1\n",
    "v = np.array([0, 0])\n",
    "for i in range(1000):\n",
    "    grad = grad_f(x_prev[0], x_prev[1])\n",
    "    v = gamma*v + lr * grad\n",
    "    x_next = x_prev - v\n",
    "    \n",
    "    x_prev = x_next.copy()\n",
    "    opt_trajectory.append(x_prev.copy())\n",
    "    \n",
    "    if np.abs(f(opt_trajectory[-1][0], opt_trajectory[-1][1])-f(opt_trajectory[-2][0], opt_trajectory[-2][1]))<1e-7:\n",
    "        break"
   ]
  },
  {
   "cell_type": "code",
   "execution_count": 33,
   "metadata": {},
   "outputs": [
    {
     "data": {
      "image/png": "[encoded data removed]",
      "text/plain": [
       "<Figure size 432x288 with 1 Axes>"
      ]
     },
     "metadata": {
      "needs_background": "light"
     },
     "output_type": "display_data"
    }
   ],
   "source": [
    "plt.contourf(x_base, y_base, z)\n",
    "plt.plot(np.array(opt_trajectory)[:,0], np.array(opt_trajectory)[:,1], '.y')\n",
    "plt.show()"
   ]
  },
  {
   "cell_type": "code",
   "execution_count": 34,
   "metadata": {},
   "outputs": [
    {
     "name": "stdout",
     "output_type": "stream",
     "text": [
      "1001 [0.07323382 0.07323382] 0.00021452770439862878\n"
     ]
    }
   ],
   "source": [
    "print(len(opt_trajectory), opt_trajectory[-1], f(opt_trajectory[-1][0], opt_trajectory[-1][1]))"
   ]
  },
  {
   "cell_type": "markdown",
   "metadata": {},
   "source": [
    "### Problem 3\n",
    "Implement Newton method for McCormick function ([link](https://www.sfu.ca/~ssurjano/mccorm.html)):\n",
    "$$f(x,y) = \\sin(x+y) + (x-y)^2-1.5x+2.5y+1$$\n",
    "on the interval $[-1.5;4] \\times [-3;4]$. Plot the behavior of the optimization process on the contour map of the function. Select starting point randomly as in previous problems. Compare to steepest gradient descent on the same function."
   ]
  },
  {
   "cell_type": "code",
   "execution_count": 72,
   "metadata": {},
   "outputs": [],
   "source": [
    "def f(x, y):\n",
    "    return np.sin(x+y) + (x-y)**2 -1.5*x +2.5*y +1\n",
    "    \n",
    "def grad_f(x, y):\n",
    "    return np.array([np.cos(x+y)+2*(x-y)-1.5,\n",
    "                    np.cos(x+y)+2*(y-x)+2.5])\n",
    "\n",
    "def hessian_f(x, y):\n",
    "    return np.array([[-np.sin(x+y)+2, -np.sin(x+y)-2],\n",
    "                    [-np.sin(x+y)-2, -np.sin(x+y)+2]])"
   ]
  },
  {
   "cell_type": "code",
   "execution_count": 73,
   "metadata": {},
   "outputs": [
    {
     "data": {
      "image/png": "[encoded data removed]",
      "text/plain": [
       "<Figure size 432x288 with 1 Axes>"
      ]
     },
     "metadata": {
      "needs_background": "light"
     },
     "output_type": "display_data"
    }
   ],
   "source": [
    "x_min, x_max = -1.5, 4\n",
    "y_min, y_max = -3, 4\n",
    "\n",
    "x_base = np.linspace(x_min, x_max, 100)\n",
    "y_base = np.linspace(y_min, y_max, 100)\n",
    "\n",
    "xx, yy = np.meshgrid(x_base, y_base, sparse=True)\n",
    "z = f(xx, yy)\n",
    "plt.contourf(x_base, y_base, z)\n",
    "plt.show()"
   ]
  },
  {
   "cell_type": "code",
   "execution_count": 82,
   "metadata": {},
   "outputs": [],
   "source": [
    "x0 = np.array([np.random.uniform(x_min, x_max, 1), np.random.uniform(y_min, y_max, 1)]).reshape((2,))"
   ]
  },
  {
   "cell_type": "code",
   "execution_count": 75,
   "metadata": {},
   "outputs": [],
   "source": [
    "def line_search_golden_ratio(x, d):\n",
    "    # find intersection with interval borders\n",
    "    if d[0]!=0 and (x_min - x[0])/d[0] > 0:\n",
    "        alpha = (x_min - x[0])/d[0]\n",
    "    else:\n",
    "        alpha = 1e10\n",
    "    if d[1]!=0 and (y_min - x[1])/d[1] > 0:\n",
    "        alpha = min(alpha, (y_min - x[1])/d[1])\n",
    "    if d[0]!=0 and (x_max - x[0])/d[0] > 0:\n",
    "        alpha = min(alpha, x_max - x[0])/d[0]\n",
    "    if d[1]!=0 and (y_max - x[1])/d[1] > 0:\n",
    "        alpha = min(alpha, (y_max - x[1])/d[1])\n",
    "    # from now on we search in the interval [0, a]\n",
    "    left, right = 0, alpha\n",
    "    tau = (1+np.sqrt(5))/2\n",
    "    while np.abs(right-left) > 1e-5:\n",
    "        a = left + (right - left)*(2-tau)\n",
    "        b = left + (right - left)*(tau-1)\n",
    "        # we need to calculate -f because the search method is \n",
    "        f_a = -f(x[0]+a*d[0], x[1]+a*d[1])\n",
    "        f_b = -f(x[0]+b*d[0], x[1]+b*d[1])\n",
    "        if f_a == f_b:\n",
    "            left, right = a, b\n",
    "        if f_a > f_b:\n",
    "            right = b\n",
    "        if f_a < f_b:\n",
    "            left = a\n",
    "    return x + (left+right)/2 * d"
   ]
  },
  {
   "cell_type": "code",
   "execution_count": 83,
   "metadata": {},
   "outputs": [],
   "source": [
    "x_prev = x0.copy()\n",
    "opt_trajectory = [x_prev]\n",
    "lr = 0.1\n",
    "for i in range(1000):\n",
    "    H = hessian_f(x_prev[0], x_prev[1])\n",
    "    grad = grad_f(x_prev[0], x_prev[1])\n",
    "    x_next = line_search_golden_ratio(x_prev, -(la.inv(H)@grad))\n",
    "    x_prev = x_next.copy()\n",
    "    opt_trajectory.append(x_prev.copy())\n",
    "    \n",
    "    if np.abs(f(opt_trajectory[-1][0], opt_trajectory[-1][1])-f(opt_trajectory[-2][0], opt_trajectory[-2][1]))<1e-7:\n",
    "        break"
   ]
  },
  {
   "cell_type": "code",
   "execution_count": 84,
   "metadata": {},
   "outputs": [],
   "source": [
    "x_prev = x0.copy()\n",
    "gd_opt_trajectory = [x_prev]\n",
    "lr = 0.1\n",
    "\n",
    "for i in range(1000):\n",
    "    grad = grad_f(x_prev[0], x_prev[1])\n",
    "    x_next = line_search_golden_ratio(x_prev, -grad)\n",
    "    \n",
    "    x_prev = x_next.copy()\n",
    "    gd_opt_trajectory.append(x_prev.copy())\n",
    "    \n",
    "    if np.abs(f(gd_opt_trajectory[-1][0], gd_opt_trajectory[-1][1])-f(gd_opt_trajectory[-2][0], gd_opt_trajectory[-2][1]))<1e-7:\n",
    "        break"
   ]
  },
  {
   "cell_type": "code",
   "execution_count": 85,
   "metadata": {},
   "outputs": [
    {
     "data": {
      "image/png": "[encoded data removed]",
      "text/plain": [
       "<Figure size 432x288 with 1 Axes>"
      ]
     },
     "metadata": {
      "needs_background": "light"
     },
     "output_type": "display_data"
    }
   ],
   "source": [
    "plt.contourf(x_base, y_base, z)\n",
    "plt.plot(np.array(opt_trajectory)[:,0], np.array(opt_trajectory)[:,1], 'y.-')\n",
    "plt.plot(np.array(gd_opt_trajectory)[:,0], np.array(gd_opt_trajectory)[:,1], 'w.-')\n",
    "plt.show()"
   ]
  },
  {
   "cell_type": "code",
   "execution_count": 86,
   "metadata": {},
   "outputs": [
    {
     "name": "stdout",
     "output_type": "stream",
     "text": [
      "8 [2.59438745 1.59438708] 1.2283696987153094\n"
     ]
    }
   ],
   "source": [
    "print(len(gd_opt_trajectory), gd_opt_trajectory[-1], f(gd_opt_trajectory[-1][0], gd_opt_trajectory[-1][1]))\n"
   ]
  },
  {
   "cell_type": "code",
   "execution_count": 87,
   "metadata": {},
   "outputs": [
    {
     "name": "stdout",
     "output_type": "stream",
     "text": [
      "7 [-0.54719755 -1.54719755] -1.9132229549810362\n"
     ]
    }
   ],
   "source": [
    "print(len(opt_trajectory), opt_trajectory[-1], f(opt_trajectory[-1][0], opt_trajectory[-1][1]))"
   ]
  },
  {
   "cell_type": "markdown",
   "metadata": {},
   "source": [
    "### Problem 4\n",
    "Implement gradient descent with Golden Ratio line search for Goldstein–Price function:\n",
    "$$f(x,y)=\\left[1+\\left(x+y+1\\right)^{2}\\left(19-14x+3x^{2}-14y+6xy+3y^{2}\\right)\\right]\n",
    "\\left[30+\\left(2x-3y\\right)^{2}\\left(18-32x+12x^{2}+48y-36xy+27y^{2}\\right)\\right]$$\n",
    "on the interval $[-10;10] \\times [-10;10]$. Plot the behavior of the optimization process on the contour map of the function. Find gradients using finite difference approximation.\n",
    "\n",
    "Useful function: `pyplot.contour`, `np.meshgrid`"
   ]
  },
  {
   "cell_type": "markdown",
   "metadata": {},
   "source": [
    "### Problem 5\n",
    "Implement gradient descent with Golden Ratio line search for Goldstein–Price function:\n",
    "$$f(x,y)=\\left[1+\\left(x+y+1\\right)^{2}\\left(19-14x+3x^{2}-14y+6xy+3y^{2}\\right)\\right]\n",
    "\\left[30+\\left(2x-3y\\right)^{2}\\left(18-32x+12x^{2}+48y-36xy+27y^{2}\\right)\\right]$$\n",
    "on the interval $[-10;10] \\times [-10;10]$. Plot the behavior of the optimization process on the contour map of the function. Find gradients analytically.\n",
    "\n",
    "Useful function: `pyplot.contour`, `np.meshgrid`"
   ]
  },
  {
   "cell_type": "markdown",
   "metadata": {},
   "source": [
    "### Problem 6\n",
    "Implement coordinate descent with Nesterov momentum for McCormick function ([link](https://www.sfu.ca/~ssurjano/mccorm.html)):\n",
    "$$f(x,y) = \\sin(x+y) + (x-y)^2-1.5x+2.5y+1$$\n",
    "on the interval $[-1.5;4] \\times [-3;4]$. Plot the behavior of the optimization process on the contour map of the function. Select starting point randomly as in previous problems.\n",
    "\n",
    "Useful function: `pyplot.contour`, `np.meshgrid`"
   ]
  }
 ],
 "metadata": {
  "kernelspec": {
   "display_name": "Python 3",
   "language": "python",
   "name": "python3"
  },
  "language_info": {
   "codemirror_mode": {
    "name": "ipython",
    "version": 3
   },
   "file_extension": ".py",
   "mimetype": "text/x-python",
   "name": "python",
   "nbconvert_exporter": "python",
   "pygments_lexer": "ipython3",
   "version": "3.8.8"
  }
 },
 "nbformat": 4,
 "nbformat_minor": 4
}
