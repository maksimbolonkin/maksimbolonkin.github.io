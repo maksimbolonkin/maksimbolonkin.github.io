{
 "cells": [
  {
   "cell_type": "markdown",
   "metadata": {},
   "source": [
    "### Problem 1\n",
    "Use MCMC with Gaussian proposal distribution to generate 10000 samples from the distribution:\n",
    "$$p(x) = \\alpha_1N(\\mu_1, \\sigma_1) + \\alpha_2N(\\mu_2, \\sigma_2) + \\alpha_3N(\\mu_3, \\sigma_3)$$\n",
    "for selected $\\alpha_i, \\mu_i, \\sigma_i$.\n",
    "\n",
    "Compare to the regular sampling from the Gaussian Mixture Model."
   ]
  },
  {
   "cell_type": "code",
   "execution_count": 1,
   "metadata": {},
   "outputs": [],
   "source": [
    "import numpy as np\n",
    "import scipy.stats as stats\n",
    "import matplotlib.pyplot as plt"
   ]
  },
  {
   "cell_type": "code",
   "execution_count": 5,
   "metadata": {},
   "outputs": [],
   "source": [
    "def gen_GMM(means, scales, mixture):\n",
    "    idx = np.random.choice(np.arange(means.size), 1, p=mixture)\n",
    "    return np.random.normal(means[idx], scales[idx], 1)"
   ]
  },
  {
   "cell_type": "code",
   "execution_count": 6,
   "metadata": {},
   "outputs": [
    {
     "data": {
      "image/png": "[encoded data removed]",
      "text/plain": [
       "<Figure size 432x288 with 1 Axes>"
      ]
     },
     "metadata": {
      "needs_background": "light"
     },
     "output_type": "display_data"
    }
   ],
   "source": [
    "N = 10000\n",
    "means = np.array([0, 5, 9])\n",
    "scales = np.array([1, 2.5, 0.5])\n",
    "mixture = np.array([1, 3, 2])/6\n",
    "\n",
    "x = np.array([gen_GMM(means, scales, mixture) for i in range(N)])\n",
    "\n",
    "plt.hist(x, bins=100, density=True)\n",
    "plt.show()"
   ]
  },
  {
   "cell_type": "code",
   "execution_count": 7,
   "metadata": {},
   "outputs": [],
   "source": [
    "def GMM_pdf(x, means, scales, mixture):\n",
    "    p = 0\n",
    "    for i in range(means.size):\n",
    "        p += mixture[i] * stats.norm.pdf(x, means[i], scales[i])\n",
    "    return p\n",
    "\n",
    "def MCMC_GMM(means, scales, mixture, n, sigma):\n",
    "    result = []\n",
    "    x = 0\n",
    "    while len(result)<n:\n",
    "        p = GMM_pdf(x, means, scales, mixture)\n",
    "        x1 = x + np.random.normal(0, sigma)\n",
    "        p1 = GMM_pdf(x1, means, scales, mixture)\n",
    "        A = p1 / p\n",
    "        if np.random.random() < A:\n",
    "            x = x1\n",
    "        result.append(x)\n",
    "    return np.array(result)"
   ]
  },
  {
   "cell_type": "code",
   "execution_count": 11,
   "metadata": {},
   "outputs": [
    {
     "data": {
      "image/png": "[encoded data removed]",
      "text/plain": [
       "<Figure size 432x288 with 1 Axes>"
      ]
     },
     "metadata": {
      "needs_background": "light"
     },
     "output_type": "display_data"
    }
   ],
   "source": [
    "y = MCMC_GMM(means, scales, mixture, N, 1)\n",
    "plt.hist(y, bins=100, density=True)\n",
    "plt.show()\n",
    "\n",
    "# y = MCMC_GMM(means, scales, mixture, N, 0.001)\n",
    "# plt.hist(y, bins=100, density=True)\n",
    "# plt.show()\n",
    "\n",
    "# y = MCMC_GMM(means, scales, mixture, N, 0.1)\n",
    "# plt.hist(y, bins=100, density=True)\n",
    "# plt.show()"
   ]
  },
  {
   "cell_type": "markdown",
   "metadata": {},
   "source": [
    "### Problem 2\n",
    "Use MCMC with Gaussian proposal distribution to generate 10000 samples from the distribution:\n",
    "$$p(x) \\propto \\frac{x}{x+1} + \\sin^2 x e^{\\sin x}$$\n",
    "where $x\\in [0, 2\\pi]$."
   ]
  },
  {
   "cell_type": "code",
   "execution_count": 14,
   "metadata": {},
   "outputs": [],
   "source": [
    "def f(x):\n",
    "    if x <0 or x > 2*np.pi:\n",
    "        return 0\n",
    "    else:\n",
    "        return x/(x+1) + np.sin(x)**2 * np.exp(np.sin(x))"
   ]
  },
  {
   "cell_type": "code",
   "execution_count": 15,
   "metadata": {},
   "outputs": [],
   "source": [
    "def MCMC_GMM(n, sigma):\n",
    "    result = []\n",
    "    x = np.pi\n",
    "    while len(result)<n:\n",
    "        p = f(x)\n",
    "        x1 = x + np.random.normal(0, sigma)\n",
    "        p1 = f(x1)\n",
    "        A = p1 / p\n",
    "        if np.random.random() < A:\n",
    "            x = x1\n",
    "        result.append(x)\n",
    "    return np.array(result)"
   ]
  },
  {
   "cell_type": "code",
   "execution_count": 25,
   "metadata": {},
   "outputs": [
    {
     "data": {
      "image/png": "[encoded data removed]",
      "text/plain": [
       "<Figure size 432x288 with 1 Axes>"
      ]
     },
     "metadata": {
      "needs_background": "light"
     },
     "output_type": "display_data"
    },
    {
     "data": {
      "image/png": "[encoded data removed]",
      "text/plain": [
       "<Figure size 432x288 with 1 Axes>"
      ]
     },
     "metadata": {
      "needs_background": "light"
     },
     "output_type": "display_data"
    }
   ],
   "source": [
    "y = MCMC_GMM(N, 0.5)\n",
    "x_base = np.linspace(0, 2*np.pi, 100)\n",
    "plt.plot(x_base, np.array([f(x_base[i]) for i in range(x_base.size)]), 'r-')\n",
    "plt.show()\n",
    "plt.hist(y, bins=100, density=True)\n",
    "plt.show()"
   ]
  },
  {
   "cell_type": "code",
   "execution_count": 18,
   "metadata": {},
   "outputs": [
    {
     "data": {
      "image/png": "[encoded data removed]",
      "text/plain": [
       "<Figure size 432x288 with 1 Axes>"
      ]
     },
     "metadata": {
      "needs_background": "light"
     },
     "output_type": "display_data"
    }
   ],
   "source": [
    "y = MCMC_GMM(N, 0.01)\n",
    "plt.hist(y, bins=100, density=True)\n",
    "plt.show()"
   ]
  },
  {
   "cell_type": "code",
   "execution_count": 19,
   "metadata": {},
   "outputs": [
    {
     "data": {
      "image/png": "[encoded data removed]",
      "text/plain": [
       "<Figure size 432x288 with 1 Axes>"
      ]
     },
     "metadata": {
      "needs_background": "light"
     },
     "output_type": "display_data"
    }
   ],
   "source": [
    "y = MCMC_GMM(N, 0.5)\n",
    "plt.hist(y, bins=100, density=True)\n",
    "plt.show()"
   ]
  },
  {
   "cell_type": "markdown",
   "metadata": {},
   "source": [
    "### Problem 3\n",
    "Use Gibbs Sampling to sample uniformly from a set of binary $5 \\times 5$ non-degenerate matrices.\n",
    "\n",
    "Use `numpy.linalg.det`."
   ]
  },
  {
   "cell_type": "markdown",
   "metadata": {},
   "source": [
    "### Problem 4\n",
    "\n",
    "Select parameters for two non-collinear lines\n",
    "$$y = a^{(i)}x + b^{(i)}$$\n",
    "Generate 25 points on each line in the range $x \\in [-10; 10]$, add random gaussian noise with zero mean and std $\\sigma = 0.5$ to 50% of all the points. Add 10 random points not from the lines. Plot to verify that task looks reasonable. Combine all generated points into one array and treat it as an input data.\n",
    "\n",
    "Use RANSAC to find best fit:\n",
    "1. Select 2 pairs of random points\n",
    "2. \"Draw\" two lines through these two pairs (find parameters)\n",
    "3. Calculate avg MSE by assigning each point to the closest (vertical distance) line\n",
    "4. Repeat N (sufficiently large) times and keep the best fit\n",
    "\n",
    "Plot final solution and original lines for comparison."
   ]
  }
 ],
 "metadata": {
  "kernelspec": {
   "display_name": "Python 3",
   "language": "python",
   "name": "python3"
  },
  "language_info": {
   "codemirror_mode": {
    "name": "ipython",
    "version": 3
   },
   "file_extension": ".py",
   "mimetype": "text/x-python",
   "name": "python",
   "nbconvert_exporter": "python",
   "pygments_lexer": "ipython3",
   "version": "3.8.8"
  }
 },
 "nbformat": 4,
 "nbformat_minor": 4
}
