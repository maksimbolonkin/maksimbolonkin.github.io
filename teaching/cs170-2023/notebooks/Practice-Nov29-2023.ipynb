{
 "cells": [
  {
   "cell_type": "markdown",
   "id": "431725ed",
   "metadata": {},
   "source": [
    "### Problem 1\n",
    "Read the noisy text data from the datafile [typos20.data](./typos20.data).\n",
    "- Estimate output probabilities\n",
    "- Estimate transition probabilities\n",
    "\n",
    "Use Laplace smoothing.\n",
    "\n",
    "Implement Viterbi algorithm for HMM. Find the most likely original text."
   ]
  },
  {
   "cell_type": "code",
   "execution_count": 1,
   "id": "3a8b4c9f",
   "metadata": {},
   "outputs": [],
   "source": [
    "import numpy as np"
   ]
  },
  {
   "cell_type": "code",
   "execution_count": 2,
   "id": "a32b1e28",
   "metadata": {},
   "outputs": [],
   "source": [
    "original, typo = [], []\n",
    "\n",
    "with open('typos20.data') as fin:\n",
    "    for line in fin:\n",
    "        original.append(line[0])\n",
    "        typo.append(line[2])"
   ]
  },
  {
   "cell_type": "code",
   "execution_count": 3,
   "id": "bbafdce4",
   "metadata": {},
   "outputs": [],
   "source": [
    "c2i = {}\n",
    "i2c = {}\n",
    "i = 0\n",
    "for c in original:\n",
    "    if c not in c2i:\n",
    "        c2i[c] = i\n",
    "        i2c[i] = c\n",
    "        i += 1\n",
    "for c in typo:\n",
    "    if c not in c2i:\n",
    "        c2i[c] = i\n",
    "        i2c[i] = c\n",
    "        i += 1"
   ]
  },
  {
   "cell_type": "code",
   "execution_count": 5,
   "id": "4576233c",
   "metadata": {},
   "outputs": [],
   "source": [
    "N = len(c2i)\n",
    "A = np.ones((N, N))\n",
    "B = np.ones((N, N))\n",
    "\n",
    "for i in range(len(original)-1):\n",
    "    q1 = c2i[original[i]]\n",
    "    q2 = c2i[original[i+1]]\n",
    "    A[q1,q2] += 1\n",
    "\n",
    "for i in range(len(original)):\n",
    "    q1 = c2i[original[i]]\n",
    "    o1 = c2i[typo[i]]\n",
    "    B[q1,o1] += 1\n",
    "    \n",
    "A = A/(A.sum(axis=1)+1)\n",
    "B = B/(B.sum(axis=1)+1)"
   ]
  },
  {
   "cell_type": "code",
   "execution_count": 8,
   "id": "de69c8c2",
   "metadata": {},
   "outputs": [],
   "source": [
    "pi = np.ones(N)/N"
   ]
  },
  {
   "cell_type": "code",
   "execution_count": 9,
   "id": "27ee17fe",
   "metadata": {},
   "outputs": [],
   "source": [
    "T = len(typo)\n",
    "\n",
    "P = np.zeros((N, T))\n",
    "Q = (-1) * np.ones((N, T))\n",
    "\n",
    "o0 = c2i[typo[0]]\n",
    "for i in range(N):\n",
    "    P[i, 0] = np.log(pi[i]) + np.log(B[i, o0])\n",
    "    Q[i, 0] = i\n",
    "    \n",
    "for t in range(1, T):\n",
    "    ot = c2i[typo[t]]\n",
    "    for i in range(N):\n",
    "        pr = np.zeros(N)\n",
    "        for j in range(N):\n",
    "            pr[j] = P[j, t-1] + np.log(A[j, i]) + np.log(B[i, ot])\n",
    "        P[i, t] = np.max(pr)\n",
    "        Q[i, t] = np.argmax(pr)"
   ]
  },
  {
   "cell_type": "code",
   "execution_count": 10,
   "id": "2a155ae2",
   "metadata": {},
   "outputs": [],
   "source": [
    "restored = []\n",
    "q = int(np.argmax(P[:,T-1]))\n",
    "\n",
    "restored.append(i2c[q])\n",
    "\n",
    "for t in range(T-1, 0, -1):\n",
    "    q = int(Q[q, t])\n",
    "    restored.append(i2c[q])\n",
    "    \n",
    "restored.reverse()"
   ]
  },
  {
   "cell_type": "code",
   "execution_count": 12,
   "id": "b86bd21e",
   "metadata": {},
   "outputs": [
    {
     "name": "stdout",
     "output_type": "stream",
     "text": [
      "0.16530144439227817\n",
      "0.12049490458173383\n"
     ]
    }
   ],
   "source": [
    "errors = 0\n",
    "for i in range(len(original)):\n",
    "    if original[i] != typo[i]:\n",
    "        errors += 1\n",
    "print(errors/len(original))\n",
    "\n",
    "errors = 0\n",
    "for i in range(len(restored)):\n",
    "    if original[i] != restored[i]:\n",
    "        errors += 1\n",
    "print(errors/len(restored))"
   ]
  },
  {
   "cell_type": "code",
   "execution_count": null,
   "id": "7a9448b5",
   "metadata": {},
   "outputs": [],
   "source": []
  }
 ],
 "metadata": {
  "kernelspec": {
   "display_name": "Python 3",
   "language": "python",
   "name": "python3"
  },
  "language_info": {
   "codemirror_mode": {
    "name": "ipython",
    "version": 3
   },
   "file_extension": ".py",
   "mimetype": "text/x-python",
   "name": "python",
   "nbconvert_exporter": "python",
   "pygments_lexer": "ipython3",
   "version": "3.8.8"
  }
 },
 "nbformat": 4,
 "nbformat_minor": 5
}
